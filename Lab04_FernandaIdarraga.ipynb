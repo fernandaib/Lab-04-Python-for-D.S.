{
 "cells": [
  {
   "cell_type": "markdown",
   "id": "cacfa35f",
   "metadata": {},
   "source": [
    "# FERNANDA IDARRAGA - COMP663 | Fall 2022"
   ]
  },
  {
   "cell_type": "markdown",
   "id": "b5807b69",
   "metadata": {},
   "source": [
    "# LAB 4 - Introduction to Data Mining, Data Cleansing and Preparation"
   ]
  },
  {
   "cell_type": "markdown",
   "id": "fb119ef7",
   "metadata": {},
   "source": [
    "# Question #1 - dropna() and fillna()"
   ]
  },
  {
   "cell_type": "code",
   "execution_count": 1,
   "id": "36cdebb7",
   "metadata": {},
   "outputs": [],
   "source": [
    "# Import the necessary modules\n",
    "import pandas as pd\n",
    "\n",
    "# Read in the file hmeq_small.csv\n",
    "hmeq = pd.read_csv('hmeq_small.csv')\n",
    "\n",
    "#display(hmeq.head())"
   ]
  },
  {
   "cell_type": "code",
   "execution_count": 2,
   "id": "04064a8f",
   "metadata": {},
   "outputs": [],
   "source": [
    "# Create a new data frame with the rows with missing values dropped\n",
    "\n",
    "# Code to delete rows with missing values\n",
    "df1 = hmeq.dropna()\n",
    "#display(df1)"
   ]
  },
  {
   "cell_type": "code",
   "execution_count": 3,
   "id": "5f550981",
   "metadata": {},
   "outputs": [],
   "source": [
    "# Create a new data frame with the missing values filled in by the mean of the column\n",
    "\n",
    "# Code to fill in missing values\n",
    "df2=hmeq.fillna(hmeq.mean()) #replaces each missing value by the mean of the corresponding column.\n",
    "#display(df2)"
   ]
  },
  {
   "cell_type": "code",
   "execution_count": 4,
   "id": "a71ca81e",
   "metadata": {},
   "outputs": [
    {
     "name": "stdout",
     "output_type": "stream",
     "text": [
      "Means for df1 are  LOAN        3208.333333\n",
      "MORTDUE    67495.958333\n",
      "VALUE      82529.125000\n",
      "YOJ            8.500000\n",
      "CLAGE        144.749455\n",
      "CLNO          16.583333\n",
      "DEBTINC       33.052122\n",
      "dtype: float64 \n",
      "\n",
      "Means for df2 are  LOAN        3045.918367\n",
      "MORTDUE    49386.494253\n",
      "VALUE      64033.483871\n",
      "YOJ            8.179775\n",
      "CLAGE        140.209320\n",
      "CLNO          15.586957\n",
      "DEBTINC       30.947152\n",
      "dtype: float64\n"
     ]
    }
   ],
   "source": [
    "# Print the means of the columns for each new data frame\n",
    "print(\"Means for df1 are \", df1.mean(), '\\n')\n",
    "\n",
    "print(\"Means for df2 are \", df2.mean())"
   ]
  },
  {
   "cell_type": "markdown",
   "id": "49366aab",
   "metadata": {},
   "source": [
    "# Question #2 - scale() and MinMaxScaler()"
   ]
  },
  {
   "cell_type": "code",
   "execution_count": 5,
   "id": "26e74cd1",
   "metadata": {},
   "outputs": [
    {
     "data": {
      "text/html": [
       "<div>\n",
       "<style scoped>\n",
       "    .dataframe tbody tr th:only-of-type {\n",
       "        vertical-align: middle;\n",
       "    }\n",
       "\n",
       "    .dataframe tbody tr th {\n",
       "        vertical-align: top;\n",
       "    }\n",
       "\n",
       "    .dataframe thead th {\n",
       "        text-align: right;\n",
       "    }\n",
       "</style>\n",
       "<table border=\"1\" class=\"dataframe\">\n",
       "  <thead>\n",
       "    <tr style=\"text-align: right;\">\n",
       "      <th></th>\n",
       "      <th>LOAN</th>\n",
       "      <th>MORTDUE</th>\n",
       "      <th>VALUE</th>\n",
       "      <th>YOJ</th>\n",
       "      <th>CLAGE</th>\n",
       "      <th>CLNO</th>\n",
       "      <th>DEBTINC</th>\n",
       "    </tr>\n",
       "  </thead>\n",
       "  <tbody>\n",
       "    <tr>\n",
       "      <th>0</th>\n",
       "      <td>1100</td>\n",
       "      <td>25860.0</td>\n",
       "      <td>39025.0</td>\n",
       "      <td>10.5</td>\n",
       "      <td>94.366667</td>\n",
       "      <td>9.0</td>\n",
       "      <td>NaN</td>\n",
       "    </tr>\n",
       "    <tr>\n",
       "      <th>1</th>\n",
       "      <td>1300</td>\n",
       "      <td>70053.0</td>\n",
       "      <td>68400.0</td>\n",
       "      <td>7.0</td>\n",
       "      <td>121.833333</td>\n",
       "      <td>14.0</td>\n",
       "      <td>NaN</td>\n",
       "    </tr>\n",
       "    <tr>\n",
       "      <th>2</th>\n",
       "      <td>1500</td>\n",
       "      <td>13500.0</td>\n",
       "      <td>16700.0</td>\n",
       "      <td>4.0</td>\n",
       "      <td>149.466667</td>\n",
       "      <td>10.0</td>\n",
       "      <td>NaN</td>\n",
       "    </tr>\n",
       "    <tr>\n",
       "      <th>3</th>\n",
       "      <td>1500</td>\n",
       "      <td>NaN</td>\n",
       "      <td>NaN</td>\n",
       "      <td>NaN</td>\n",
       "      <td>NaN</td>\n",
       "      <td>NaN</td>\n",
       "      <td>NaN</td>\n",
       "    </tr>\n",
       "    <tr>\n",
       "      <th>4</th>\n",
       "      <td>1700</td>\n",
       "      <td>97800.0</td>\n",
       "      <td>112000.0</td>\n",
       "      <td>3.0</td>\n",
       "      <td>93.333333</td>\n",
       "      <td>14.0</td>\n",
       "      <td>NaN</td>\n",
       "    </tr>\n",
       "  </tbody>\n",
       "</table>\n",
       "</div>"
      ],
      "text/plain": [
       "   LOAN  MORTDUE     VALUE   YOJ       CLAGE  CLNO  DEBTINC\n",
       "0  1100  25860.0   39025.0  10.5   94.366667   9.0      NaN\n",
       "1  1300  70053.0   68400.0   7.0  121.833333  14.0      NaN\n",
       "2  1500  13500.0   16700.0   4.0  149.466667  10.0      NaN\n",
       "3  1500      NaN       NaN   NaN         NaN   NaN      NaN\n",
       "4  1700  97800.0  112000.0   3.0   93.333333  14.0      NaN"
      ]
     },
     "metadata": {},
     "output_type": "display_data"
    }
   ],
   "source": [
    "# Import the necessary modules\n",
    "import pandas as pd\n",
    "from sklearn import preprocessing\n",
    "\n",
    "# Read in the file hmeq_small.csv\n",
    "hmeq = pd.read_csv('hmeq_lab412.csv')\n",
    "\n",
    "display(hmeq.head())"
   ]
  },
  {
   "cell_type": "code",
   "execution_count": 6,
   "id": "20d86048",
   "metadata": {},
   "outputs": [],
   "source": [
    "# Standardize the data\n",
    "# Code to standardize the data\n",
    "standardized = preprocessing.scale(hmeq)"
   ]
  },
  {
   "cell_type": "code",
   "execution_count": 7,
   "id": "6688e336",
   "metadata": {},
   "outputs": [],
   "source": [
    "# Output the standardized data as a data frame \n",
    "# Code to output as a data frame\n",
    "df1 = pd.DataFrame(standardized, columns = [\"LOAN\", \"MORTDUE\", \"VALUE\", \"YOJ\", \"CLAGE\", \"CLNO\", \"DEBTINC\"])"
   ]
  },
  {
   "cell_type": "code",
   "execution_count": 8,
   "id": "55479142",
   "metadata": {},
   "outputs": [],
   "source": [
    "# Normalize the data\n",
    "# Code to normalize the data\n",
    "normalized = preprocessing.MinMaxScaler().fit_transform(hmeq)"
   ]
  },
  {
   "cell_type": "code",
   "execution_count": 9,
   "id": "c89f73b0",
   "metadata": {},
   "outputs": [],
   "source": [
    "# Output the standardized data as a data frame\n",
    "# Code to output as a data frame\n",
    "df2 = pd.DataFrame(normalized, columns = [\"LOAN\", \"MORTDUE\", \"VALUE\", \"YOJ\", \"CLAGE\", \"CLNO\", \"DEBTINC\"])"
   ]
  },
  {
   "cell_type": "code",
   "execution_count": 10,
   "id": "fc0fad69",
   "metadata": {},
   "outputs": [
    {
     "name": "stdout",
     "output_type": "stream",
     "text": [
      "The means of df1 are  LOAN      -1.525998e-16\n",
      "MORTDUE   -2.089064e-16\n",
      "VALUE      0.000000e+00\n",
      "YOJ        7.307694e-17\n",
      "CLAGE     -1.408011e-16\n",
      "CLNO      -8.915838e-17\n",
      "DEBTINC   -1.453486e-16\n",
      "dtype: float64 \n",
      "\n",
      "The standard deviations of df1 are  LOAN       1.000084\n",
      "MORTDUE    1.000092\n",
      "VALUE      1.000086\n",
      "YOJ        1.000092\n",
      "CLAGE      1.000088\n",
      "CLNO       1.000087\n",
      "DEBTINC    1.000107\n",
      "dtype: float64 \n",
      "\n",
      "The means of df2 are  LOAN       0.197162\n",
      "MORTDUE    0.180378\n",
      "VALUE      0.110597\n",
      "YOJ        0.217616\n",
      "CLAGE      0.153879\n",
      "CLNO       0.299945\n",
      "DEBTINC    0.163991\n",
      "dtype: float64 \n",
      "\n",
      "The standard deviations of df2 are  LOAN       0.126210\n",
      "MORTDUE    0.111847\n",
      "VALUE      0.067679\n",
      "YOJ        0.184731\n",
      "CLAGE      0.073453\n",
      "CLNO       0.142802\n",
      "DEBTINC    0.042418\n",
      "dtype: float64\n"
     ]
    }
   ],
   "source": [
    "# Print the means and standard deviations of df1 and df2\n",
    "print(\"The means of df1 are \", df1.mean(), '\\n')\n",
    "print(\"The standard deviations of df1 are \", df1.std(), '\\n')\n",
    "print(\"The means of df2 are \", df2.mean(), '\\n')\n",
    "print(\"The standard deviations of df2 are \", df2.std())"
   ]
  },
  {
   "cell_type": "code",
   "execution_count": null,
   "id": "1abcc4f3",
   "metadata": {},
   "outputs": [],
   "source": []
  }
 ],
 "metadata": {
  "kernelspec": {
   "display_name": "Python 3 (ipykernel)",
   "language": "python",
   "name": "python3"
  },
  "language_info": {
   "codemirror_mode": {
    "name": "ipython",
    "version": 3
   },
   "file_extension": ".py",
   "mimetype": "text/x-python",
   "name": "python",
   "nbconvert_exporter": "python",
   "pygments_lexer": "ipython3",
   "version": "3.12.2"
  }
 },
 "nbformat": 4,
 "nbformat_minor": 5
}
